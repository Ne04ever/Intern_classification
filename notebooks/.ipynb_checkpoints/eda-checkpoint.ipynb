{
 "cells": [
  {
   "cell_type": "code",
   "execution_count": 1,
   "id": "769f8834",
   "metadata": {
    "scrolled": true
   },
   "outputs": [],
   "source": [
    "import pandas as pd\n",
    "import numpy as np\n",
    "import matplotlib.pyplot as plt\n",
    "import seaborn as sns"
   ]
  },
  {
   "cell_type": "code",
   "execution_count": 2,
   "id": "cf66b0e4",
   "metadata": {
    "scrolled": true
   },
   "outputs": [
    {
     "data": {
      "text/plain": [
       "Index(['Unnamed: 0', 'Unnamed: 0.1', 'enrollee_id', 'city',\n",
       "       'city_development_index', 'gender', 'relevent_experience',\n",
       "       'enrolled_university', 'education_level', 'major_discipline',\n",
       "       'experience', 'company_size', 'company_type', 'last_new_job',\n",
       "       'training_hours', 'target', 'city_id', 'city_dev_perc',\n",
       "       'experience_lvl', 'company_class'],\n",
       "      dtype='object')"
      ]
     },
     "execution_count": 2,
     "metadata": {},
     "output_type": "execute_result"
    }
   ],
   "source": [
    "#Importing data\n",
    "eda_data = pd.read_csv('clean.csv')\n",
    "eda_data.columns"
   ]
  },
  {
   "cell_type": "code",
   "execution_count": 3,
   "id": "37483788",
   "metadata": {
    "scrolled": true
   },
   "outputs": [
    {
     "data": {
      "text/html": [
       "<div>\n",
       "<style scoped>\n",
       "    .dataframe tbody tr th:only-of-type {\n",
       "        vertical-align: middle;\n",
       "    }\n",
       "\n",
       "    .dataframe tbody tr th {\n",
       "        vertical-align: top;\n",
       "    }\n",
       "\n",
       "    .dataframe thead th {\n",
       "        text-align: right;\n",
       "    }\n",
       "</style>\n",
       "<table border=\"1\" class=\"dataframe\">\n",
       "  <thead>\n",
       "    <tr style=\"text-align: right;\">\n",
       "      <th></th>\n",
       "      <th>gender</th>\n",
       "      <th>relevent_experience</th>\n",
       "      <th>enrolled_university</th>\n",
       "      <th>education_level</th>\n",
       "      <th>major_discipline</th>\n",
       "      <th>company_type</th>\n",
       "      <th>last_new_job</th>\n",
       "      <th>training_hours</th>\n",
       "      <th>target</th>\n",
       "      <th>city_id</th>\n",
       "      <th>city_dev_perc</th>\n",
       "      <th>experience_lvl</th>\n",
       "      <th>experience</th>\n",
       "      <th>company_class</th>\n",
       "    </tr>\n",
       "  </thead>\n",
       "  <tbody>\n",
       "    <tr>\n",
       "      <th>0</th>\n",
       "      <td>1</td>\n",
       "      <td>1</td>\n",
       "      <td>no_enrollment</td>\n",
       "      <td>Graduate</td>\n",
       "      <td>STEM</td>\n",
       "      <td>NaN</td>\n",
       "      <td>1</td>\n",
       "      <td>36</td>\n",
       "      <td>1.0</td>\n",
       "      <td>103</td>\n",
       "      <td>92.0</td>\n",
       "      <td>expert_lvl</td>\n",
       "      <td>&gt;20</td>\n",
       "      <td>unknown</td>\n",
       "    </tr>\n",
       "    <tr>\n",
       "      <th>1</th>\n",
       "      <td>1</td>\n",
       "      <td>0</td>\n",
       "      <td>no_enrollment</td>\n",
       "      <td>Graduate</td>\n",
       "      <td>STEM</td>\n",
       "      <td>Pvt Ltd</td>\n",
       "      <td>&gt;4</td>\n",
       "      <td>47</td>\n",
       "      <td>0.0</td>\n",
       "      <td>40</td>\n",
       "      <td>77.6</td>\n",
       "      <td>expert_lvl</td>\n",
       "      <td>15</td>\n",
       "      <td>small_company</td>\n",
       "    </tr>\n",
       "    <tr>\n",
       "      <th>2</th>\n",
       "      <td>0</td>\n",
       "      <td>0</td>\n",
       "      <td>Full time course</td>\n",
       "      <td>Graduate</td>\n",
       "      <td>STEM</td>\n",
       "      <td>NaN</td>\n",
       "      <td>0</td>\n",
       "      <td>83</td>\n",
       "      <td>0.0</td>\n",
       "      <td>21</td>\n",
       "      <td>62.4</td>\n",
       "      <td>mid_lvl</td>\n",
       "      <td>5</td>\n",
       "      <td>unknown</td>\n",
       "    </tr>\n",
       "    <tr>\n",
       "      <th>3</th>\n",
       "      <td>0</td>\n",
       "      <td>0</td>\n",
       "      <td>NaN</td>\n",
       "      <td>Graduate</td>\n",
       "      <td>Business Degree</td>\n",
       "      <td>Pvt Ltd</td>\n",
       "      <td>0</td>\n",
       "      <td>52</td>\n",
       "      <td>1.0</td>\n",
       "      <td>115</td>\n",
       "      <td>78.9</td>\n",
       "      <td>entry_lvl</td>\n",
       "      <td>&lt;1</td>\n",
       "      <td>unknown</td>\n",
       "    </tr>\n",
       "    <tr>\n",
       "      <th>4</th>\n",
       "      <td>1</td>\n",
       "      <td>1</td>\n",
       "      <td>no_enrollment</td>\n",
       "      <td>Masters</td>\n",
       "      <td>STEM</td>\n",
       "      <td>Funded Startup</td>\n",
       "      <td>4</td>\n",
       "      <td>8</td>\n",
       "      <td>0.0</td>\n",
       "      <td>162</td>\n",
       "      <td>76.7</td>\n",
       "      <td>expert_lvl</td>\n",
       "      <td>&gt;20</td>\n",
       "      <td>small_company</td>\n",
       "    </tr>\n",
       "  </tbody>\n",
       "</table>\n",
       "</div>"
      ],
      "text/plain": [
       "   gender  relevent_experience enrolled_university education_level  \\\n",
       "0       1                    1       no_enrollment        Graduate   \n",
       "1       1                    0       no_enrollment        Graduate   \n",
       "2       0                    0    Full time course        Graduate   \n",
       "3       0                    0                 NaN        Graduate   \n",
       "4       1                    1       no_enrollment         Masters   \n",
       "\n",
       "  major_discipline    company_type last_new_job  training_hours  target  \\\n",
       "0             STEM             NaN            1              36     1.0   \n",
       "1             STEM         Pvt Ltd           >4              47     0.0   \n",
       "2             STEM             NaN            0              83     0.0   \n",
       "3  Business Degree         Pvt Ltd            0              52     1.0   \n",
       "4             STEM  Funded Startup            4               8     0.0   \n",
       "\n",
       "   city_id  city_dev_perc experience_lvl experience  company_class  \n",
       "0      103           92.0     expert_lvl        >20        unknown  \n",
       "1       40           77.6     expert_lvl         15  small_company  \n",
       "2       21           62.4        mid_lvl          5        unknown  \n",
       "3      115           78.9      entry_lvl         <1        unknown  \n",
       "4      162           76.7     expert_lvl        >20  small_company  "
      ]
     },
     "execution_count": 3,
     "metadata": {},
     "output_type": "execute_result"
    }
   ],
   "source": [
    "#selecting nacessary columns\n",
    "eda_df = eda_data[['gender', 'relevent_experience','enrolled_university', 'education_level', 'major_discipline', 'company_type', 'last_new_job','training_hours', 'target', 'city_id', 'city_dev_perc','experience_lvl', 'experience','company_class']]\n",
    "eda_df.head()"
   ]
  },
  {
   "cell_type": "markdown",
   "id": "b450fff5",
   "metadata": {},
   "source": [
    "## Analisng target distribution"
   ]
  },
  {
   "cell_type": "code",
   "execution_count": 4,
   "id": "7895ff69",
   "metadata": {
    "scrolled": true
   },
   "outputs": [
    {
     "data": {
      "image/png": "[encoded data removed]",
      "text/plain": [
       "<Figure size 432x288 with 1 Axes>"
      ]
     },
     "metadata": {},
     "output_type": "display_data"
    }
   ],
   "source": [
    "total = eda_df['target'].value_counts()\n",
    "fig1 = total.plot.pie(shadow=True, explode=(0,0.1),startangle=0,autopct='%1.1f%%')\n",
    "labels = ['intern stays','intern leaves']\n",
    "plt.legend(labels)\n",
    "plt.axis('equal')\n",
    "plt.show()"
   ]
  },
  {
   "cell_type": "markdown",
   "id": "00a7c894",
   "metadata": {},
   "source": [
    "## Analsing Intern stays"
   ]
  },
  {
   "cell_type": "code",
   "execution_count": 5,
   "id": "d974e294",
   "metadata": {
    "scrolled": true
   },
   "outputs": [],
   "source": [
    "intern_stays = eda_df.loc[eda_df['target'] == 0]"
   ]
  },
  {
   "cell_type": "markdown",
   "id": "d365f148",
   "metadata": {},
   "source": [
    "### creating bar chart to analyse columns"
   ]
  },
  {
   "cell_type": "code",
   "execution_count": 6,
   "id": "8797c134",
   "metadata": {
    "scrolled": true
   },
   "outputs": [],
   "source": [
    "bar_chart = intern_stays[['gender','relevent_experience','enrolled_university','education_level','major_discipline','company_type','last_new_job','experience_lvl','company_class']]"
   ]
  },
  {
   "cell_type": "code",
   "execution_count": 7,
   "id": "76e78810",
   "metadata": {
    "scrolled": false
   },
   "outputs": [
    {
     "name": "stdout",
     "output_type": "stream",
     "text": [
      "graph for gender: total = 3\n"
     ]
    },
    {
     "data": {
      "image/png": "[encoded data removed]",
      "text/plain": [
       "<Figure size 432x288 with 1 Axes>"
      ]
     },
     "metadata": {
      "needs_background": "light"
     },
     "output_type": "display_data"
    },
    {
     "name": "stdout",
     "output_type": "stream",
     "text": [
      "graph for relevent_experience: total = 2\n"
     ]
    },
    {
     "data": {
      "image/png": "[encoded data removed]",
      "text/plain": [
       "<Figure size 432x288 with 1 Axes>"
      ]
     },
     "metadata": {
      "needs_background": "light"
     },
     "output_type": "display_data"
    },
    {
     "name": "stdout",
     "output_type": "stream",
     "text": [
      "graph for enrolled_university: total = 3\n"
     ]
    },
    {
     "data": {
      "image/png": "[encoded data removed]",
      "text/plain": [
       "<Figure size 432x288 with 1 Axes>"
      ]
     },
     "metadata": {
      "needs_background": "light"
     },
     "output_type": "display_data"
    },
    {
     "name": "stdout",
     "output_type": "stream",
     "text": [
      "graph for education_level: total = 5\n"
     ]
    },
    {
     "data": {
      "image/png": "[encoded data removed]",
      "text/plain": [
       "<Figure size 432x288 with 1 Axes>"
      ]
     },
     "metadata": {
      "needs_background": "light"
     },
     "output_type": "display_data"
    },
    {
     "name": "stdout",
     "output_type": "stream",
     "text": [
      "graph for major_discipline: total = 6\n"
     ]
    },
    {
     "data": {
      "image/png": "[encoded data removed]",
      "text/plain": [
       "<Figure size 432x288 with 1 Axes>"
      ]
     },
     "metadata": {
      "needs_background": "light"
     },
     "output_type": "display_data"
    },
    {
     "name": "stdout",
     "output_type": "stream",
     "text": [
      "graph for company_type: total = 6\n"
     ]
    },
    {
     "data": {
      "image/png": "[encoded data removed]",
      "text/plain": [
       "<Figure size 432x288 with 1 Axes>"
      ]
     },
     "metadata": {
      "needs_background": "light"
     },
     "output_type": "display_data"
    },
    {
     "name": "stdout",
     "output_type": "stream",
     "text": [
      "graph for last_new_job: total = 6\n"
     ]
    },
    {
     "data": {
      "image/png": "[encoded data removed]",
      "text/plain": [
       "<Figure size 432x288 with 1 Axes>"
      ]
     },
     "metadata": {
      "needs_background": "light"
     },
     "output_type": "display_data"
    },
    {
     "name": "stdout",
     "output_type": "stream",
     "text": [
      "graph for experience_lvl: total = 5\n"
     ]
    },
    {
     "data": {
      "image/png": "[encoded data removed]",
      "text/plain": [
       "<Figure size 432x288 with 1 Axes>"
      ]
     },
     "metadata": {
      "needs_background": "light"
     },
     "output_type": "display_data"
    },
    {
     "name": "stdout",
     "output_type": "stream",
     "text": [
      "graph for company_class: total = 5\n"
     ]
    },
    {
     "data": {
      "image/png": "[encoded data removed]",
      "text/plain": [
       "<Figure size 432x288 with 1 Axes>"
      ]
     },
     "metadata": {
      "needs_background": "light"
     },
     "output_type": "display_data"
    }
   ],
   "source": [
    "for i in bar_chart.columns:\n",
    "    num=bar_chart[i].value_counts()\n",
    "    \n",
    "    print(\"graph for %s: total = %d\" % (i,len(num)))\n",
    "    chart = sns.barplot(x=num.index,y=num)\n",
    "    plt.ylabel(\"No of interns\")\n",
    "    plt.xticks(rotation=90)\n",
    "    plt.show()"
   ]
  },
  {
   "cell_type": "markdown",
   "id": "95560739",
   "metadata": {},
   "source": [
    "### Histograms and boxplots for a better understanding of values\n"
   ]
  },
  {
   "cell_type": "code",
   "execution_count": 8,
   "id": "d88ee68e",
   "metadata": {
    "scrolled": true
   },
   "outputs": [
    {
     "data": {
      "text/plain": [
       "Text(0.5, 1.0, 'City development Percentage, Histogram')"
      ]
     },
     "execution_count": 8,
     "metadata": {},
     "output_type": "execute_result"
    },
    {
     "data": {
      "image/png": "[encoded data removed]",
      "text/plain": [
       "<Figure size 432x288 with 1 Axes>"
      ]
     },
     "metadata": {
      "needs_background": "light"
     },
     "output_type": "display_data"
    }
   ],
   "source": [
    "#city development-histogram\n",
    "hist1 = intern_stays.city_dev_perc.hist()\n",
    "plt.ylabel('No. of interns',size='x-large')\n",
    "plt.xlabel('City_dev_perc',size='x-large')\n",
    "plt.title('City development Percentage, Histogram',size='x-large')"
   ]
  },
  {
   "cell_type": "code",
   "execution_count": 9,
   "id": "b5eedda1",
   "metadata": {
    "scrolled": true
   },
   "outputs": [
    {
     "data": {
      "text/plain": [
       "Text(0.5, 1.0, 'Cities , Histogram')"
      ]
     },
     "execution_count": 9,
     "metadata": {},
     "output_type": "execute_result"
    },
    {
     "data": {
      "image/png": "[encoded data removed]",
      "text/plain": [
       "<Figure size 432x288 with 1 Axes>"
      ]
     },
     "metadata": {
      "needs_background": "light"
     },
     "output_type": "display_data"
    }
   ],
   "source": [
    "#histogram for cities\n",
    "hist2 = intern_stays.city_id.hist()\n",
    "plt.ylabel('No. of interns',size='x-large')\n",
    "plt.xlabel('City_id',size='x-large')\n",
    "plt.title(\"Cities , Histogram\",size='x-large')"
   ]
  },
  {
   "cell_type": "code",
   "execution_count": 10,
   "id": "3840d2f0",
   "metadata": {
    "scrolled": true
   },
   "outputs": [
    {
     "data": {
      "text/plain": [
       "Text(0.5, 1.0, 'Experience')"
      ]
     },
     "execution_count": 10,
     "metadata": {},
     "output_type": "execute_result"
    },
    {
     "data": {
      "image/png": "[encoded data removed]",
      "text/plain": [
       "<Figure size 432x288 with 1 Axes>"
      ]
     },
     "metadata": {
      "needs_background": "light"
     },
     "output_type": "display_data"
    }
   ],
   "source": [
    "#histogram for experience\n",
    "hist3 = intern_stays.experience.hist()\n",
    "plt.ylabel('No. of interns',size='x-large')\n",
    "plt.xlabel('Experience',size='x-large')\n",
    "plt.title(\"Experience\",size='x-large')"
   ]
  },
  {
   "cell_type": "code",
   "execution_count": 11,
   "id": "131d4ead",
   "metadata": {},
   "outputs": [
    {
     "data": {
      "image/png": "[encoded data removed]",
      "text/plain": [
       "<Figure size 432x288 with 1 Axes>"
      ]
     },
     "metadata": {
      "needs_background": "light"
     },
     "output_type": "display_data"
    }
   ],
   "source": [
    "#boxplot - Training hours\n",
    "box1 =intern_stays.boxplot(column = ['training_hours'])"
   ]
  },
  {
   "cell_type": "markdown",
   "id": "68c3bda0",
   "metadata": {},
   "source": [
    "  "
   ]
  },
  {
   "cell_type": "markdown",
   "id": "fa3e9fc7",
   "metadata": {},
   "source": [
    "## Pivot Tables\n"
   ]
  },
  {
   "cell_type": "code",
   "execution_count": 12,
   "id": "8e13392b",
   "metadata": {},
   "outputs": [
    {
     "data": {
      "text/plain": [
       "Index(['gender', 'relevent_experience', 'enrolled_university',\n",
       "       'education_level', 'major_discipline', 'company_type', 'last_new_job',\n",
       "       'training_hours', 'target', 'city_id', 'city_dev_perc',\n",
       "       'experience_lvl', 'experience', 'company_class'],\n",
       "      dtype='object')"
      ]
     },
     "execution_count": 12,
     "metadata": {},
     "output_type": "execute_result"
    }
   ],
   "source": [
    "eda_df.columns"
   ]
  },
  {
   "cell_type": "code",
   "execution_count": 13,
   "id": "43c02371",
   "metadata": {},
   "outputs": [],
   "source": [
    "pt1 = pd.pivot_table(eda_data, index='target',columns = 'experience_lvl', values='city_dev_perc')"
   ]
  },
  {
   "cell_type": "code",
   "execution_count": 14,
   "id": "f6e1ca34",
   "metadata": {},
   "outputs": [],
   "source": [
    "pt2 = pd.pivot_table(eda_data, index=['target','company_class',], values='city_dev_perc')"
   ]
  },
  {
   "cell_type": "code",
   "execution_count": 15,
   "id": "2ef18dee",
   "metadata": {},
   "outputs": [],
   "source": [
    "pt3 = pd.pivot_table(eda_data, index=['target','gender',], values='training_hours')\n"
   ]
  },
  {
   "cell_type": "code",
   "execution_count": 16,
   "id": "6d5e74bd",
   "metadata": {},
   "outputs": [],
   "source": [
    "pt4 = pd.pivot_table(eda_data, index=['target','company_class',], values='training_hours')"
   ]
  },
  {
   "cell_type": "code",
   "execution_count": 17,
   "id": "399fe6d9",
   "metadata": {},
   "outputs": [],
   "source": [
    "pt5 = pd.pivot_table(eda_data, index=['target','major_discipline',], values='training_hours')"
   ]
  },
  {
   "cell_type": "code",
   "execution_count": 18,
   "id": "558a2f4a",
   "metadata": {},
   "outputs": [],
   "source": [
    "pt6 = pd.pivot_table(eda_data, index=['target','education_level',], values='training_hours')\n"
   ]
  },
  {
   "cell_type": "code",
   "execution_count": 19,
   "id": "4895548d",
   "metadata": {},
   "outputs": [
    {
     "data": {
      "text/html": [
       "<div>\n",
       "<style scoped>\n",
       "    .dataframe tbody tr th:only-of-type {\n",
       "        vertical-align: middle;\n",
       "    }\n",
       "\n",
       "    .dataframe tbody tr th {\n",
       "        vertical-align: top;\n",
       "    }\n",
       "\n",
       "    .dataframe thead th {\n",
       "        text-align: right;\n",
       "    }\n",
       "</style>\n",
       "<table border=\"1\" class=\"dataframe\">\n",
       "  <thead>\n",
       "    <tr style=\"text-align: right;\">\n",
       "      <th></th>\n",
       "      <th>gender</th>\n",
       "      <th>relevent_experience</th>\n",
       "      <th>enrolled_university</th>\n",
       "      <th>education_level</th>\n",
       "      <th>major_discipline</th>\n",
       "      <th>company_type</th>\n",
       "      <th>last_new_job</th>\n",
       "      <th>training_hours</th>\n",
       "      <th>target</th>\n",
       "      <th>city_id</th>\n",
       "      <th>city_dev_perc</th>\n",
       "      <th>experience_lvl</th>\n",
       "      <th>experience</th>\n",
       "      <th>company_class</th>\n",
       "    </tr>\n",
       "  </thead>\n",
       "  <tbody>\n",
       "    <tr>\n",
       "      <th>0</th>\n",
       "      <td>1</td>\n",
       "      <td>1</td>\n",
       "      <td>no_enrollment</td>\n",
       "      <td>Graduate</td>\n",
       "      <td>STEM</td>\n",
       "      <td>NaN</td>\n",
       "      <td>1</td>\n",
       "      <td>36</td>\n",
       "      <td>1.0</td>\n",
       "      <td>103</td>\n",
       "      <td>92.0</td>\n",
       "      <td>expert_lvl</td>\n",
       "      <td>&gt;20</td>\n",
       "      <td>unknown</td>\n",
       "    </tr>\n",
       "    <tr>\n",
       "      <th>1</th>\n",
       "      <td>1</td>\n",
       "      <td>0</td>\n",
       "      <td>no_enrollment</td>\n",
       "      <td>Graduate</td>\n",
       "      <td>STEM</td>\n",
       "      <td>Pvt Ltd</td>\n",
       "      <td>&gt;4</td>\n",
       "      <td>47</td>\n",
       "      <td>0.0</td>\n",
       "      <td>40</td>\n",
       "      <td>77.6</td>\n",
       "      <td>expert_lvl</td>\n",
       "      <td>15</td>\n",
       "      <td>small_company</td>\n",
       "    </tr>\n",
       "    <tr>\n",
       "      <th>2</th>\n",
       "      <td>0</td>\n",
       "      <td>0</td>\n",
       "      <td>Full time course</td>\n",
       "      <td>Graduate</td>\n",
       "      <td>STEM</td>\n",
       "      <td>NaN</td>\n",
       "      <td>0</td>\n",
       "      <td>83</td>\n",
       "      <td>0.0</td>\n",
       "      <td>21</td>\n",
       "      <td>62.4</td>\n",
       "      <td>mid_lvl</td>\n",
       "      <td>5</td>\n",
       "      <td>unknown</td>\n",
       "    </tr>\n",
       "    <tr>\n",
       "      <th>3</th>\n",
       "      <td>0</td>\n",
       "      <td>0</td>\n",
       "      <td>NaN</td>\n",
       "      <td>Graduate</td>\n",
       "      <td>Business Degree</td>\n",
       "      <td>Pvt Ltd</td>\n",
       "      <td>0</td>\n",
       "      <td>52</td>\n",
       "      <td>1.0</td>\n",
       "      <td>115</td>\n",
       "      <td>78.9</td>\n",
       "      <td>entry_lvl</td>\n",
       "      <td>&lt;1</td>\n",
       "      <td>unknown</td>\n",
       "    </tr>\n",
       "    <tr>\n",
       "      <th>4</th>\n",
       "      <td>1</td>\n",
       "      <td>1</td>\n",
       "      <td>no_enrollment</td>\n",
       "      <td>Masters</td>\n",
       "      <td>STEM</td>\n",
       "      <td>Funded Startup</td>\n",
       "      <td>4</td>\n",
       "      <td>8</td>\n",
       "      <td>0.0</td>\n",
       "      <td>162</td>\n",
       "      <td>76.7</td>\n",
       "      <td>expert_lvl</td>\n",
       "      <td>&gt;20</td>\n",
       "      <td>small_company</td>\n",
       "    </tr>\n",
       "    <tr>\n",
       "      <th>...</th>\n",
       "      <td>...</td>\n",
       "      <td>...</td>\n",
       "      <td>...</td>\n",
       "      <td>...</td>\n",
       "      <td>...</td>\n",
       "      <td>...</td>\n",
       "      <td>...</td>\n",
       "      <td>...</td>\n",
       "      <td>...</td>\n",
       "      <td>...</td>\n",
       "      <td>...</td>\n",
       "      <td>...</td>\n",
       "      <td>...</td>\n",
       "      <td>...</td>\n",
       "    </tr>\n",
       "    <tr>\n",
       "      <th>21282</th>\n",
       "      <td>1</td>\n",
       "      <td>0</td>\n",
       "      <td>no_enrollment</td>\n",
       "      <td>Graduate</td>\n",
       "      <td>Humanities</td>\n",
       "      <td>Public Sector</td>\n",
       "      <td>4</td>\n",
       "      <td>15</td>\n",
       "      <td>NaN</td>\n",
       "      <td>103</td>\n",
       "      <td>92.0</td>\n",
       "      <td>expert_lvl</td>\n",
       "      <td>16</td>\n",
       "      <td>unknown</td>\n",
       "    </tr>\n",
       "    <tr>\n",
       "      <th>21283</th>\n",
       "      <td>1</td>\n",
       "      <td>1</td>\n",
       "      <td>no_enrollment</td>\n",
       "      <td>Masters</td>\n",
       "      <td>STEM</td>\n",
       "      <td>NaN</td>\n",
       "      <td>2</td>\n",
       "      <td>30</td>\n",
       "      <td>NaN</td>\n",
       "      <td>136</td>\n",
       "      <td>89.7</td>\n",
       "      <td>expert_lvl</td>\n",
       "      <td>18</td>\n",
       "      <td>unknown</td>\n",
       "    </tr>\n",
       "    <tr>\n",
       "      <th>21284</th>\n",
       "      <td>1</td>\n",
       "      <td>0</td>\n",
       "      <td>no_enrollment</td>\n",
       "      <td>Primary School</td>\n",
       "      <td>NaN</td>\n",
       "      <td>Pvt Ltd</td>\n",
       "      <td>0</td>\n",
       "      <td>18</td>\n",
       "      <td>NaN</td>\n",
       "      <td>100</td>\n",
       "      <td>88.7</td>\n",
       "      <td>mid_lvl</td>\n",
       "      <td>3</td>\n",
       "      <td>unknown</td>\n",
       "    </tr>\n",
       "    <tr>\n",
       "      <th>21285</th>\n",
       "      <td>1</td>\n",
       "      <td>1</td>\n",
       "      <td>Full time course</td>\n",
       "      <td>High School</td>\n",
       "      <td>NaN</td>\n",
       "      <td>Public Sector</td>\n",
       "      <td>1</td>\n",
       "      <td>84</td>\n",
       "      <td>NaN</td>\n",
       "      <td>102</td>\n",
       "      <td>80.4</td>\n",
       "      <td>mid_lvl</td>\n",
       "      <td>7</td>\n",
       "      <td>mid_size_company</td>\n",
       "    </tr>\n",
       "    <tr>\n",
       "      <th>21286</th>\n",
       "      <td>1</td>\n",
       "      <td>1</td>\n",
       "      <td>no_enrollment</td>\n",
       "      <td>Masters</td>\n",
       "      <td>STEM</td>\n",
       "      <td>Pvt Ltd</td>\n",
       "      <td>2</td>\n",
       "      <td>11</td>\n",
       "      <td>NaN</td>\n",
       "      <td>102</td>\n",
       "      <td>80.4</td>\n",
       "      <td>expert_lvl</td>\n",
       "      <td>15</td>\n",
       "      <td>very_large_company</td>\n",
       "    </tr>\n",
       "  </tbody>\n",
       "</table>\n",
       "<p>21287 rows × 14 columns</p>\n",
       "</div>"
      ],
      "text/plain": [
       "       gender  relevent_experience enrolled_university education_level  \\\n",
       "0           1                    1       no_enrollment        Graduate   \n",
       "1           1                    0       no_enrollment        Graduate   \n",
       "2           0                    0    Full time course        Graduate   \n",
       "3           0                    0                 NaN        Graduate   \n",
       "4           1                    1       no_enrollment         Masters   \n",
       "...       ...                  ...                 ...             ...   \n",
       "21282       1                    0       no_enrollment        Graduate   \n",
       "21283       1                    1       no_enrollment         Masters   \n",
       "21284       1                    0       no_enrollment  Primary School   \n",
       "21285       1                    1    Full time course     High School   \n",
       "21286       1                    1       no_enrollment         Masters   \n",
       "\n",
       "      major_discipline    company_type last_new_job  training_hours  target  \\\n",
       "0                 STEM             NaN            1              36     1.0   \n",
       "1                 STEM         Pvt Ltd           >4              47     0.0   \n",
       "2                 STEM             NaN            0              83     0.0   \n",
       "3      Business Degree         Pvt Ltd            0              52     1.0   \n",
       "4                 STEM  Funded Startup            4               8     0.0   \n",
       "...                ...             ...          ...             ...     ...   \n",
       "21282       Humanities   Public Sector            4              15     NaN   \n",
       "21283             STEM             NaN            2              30     NaN   \n",
       "21284              NaN         Pvt Ltd            0              18     NaN   \n",
       "21285              NaN   Public Sector            1              84     NaN   \n",
       "21286             STEM         Pvt Ltd            2              11     NaN   \n",
       "\n",
       "       city_id  city_dev_perc experience_lvl experience       company_class  \n",
       "0          103           92.0     expert_lvl        >20             unknown  \n",
       "1           40           77.6     expert_lvl         15       small_company  \n",
       "2           21           62.4        mid_lvl          5             unknown  \n",
       "3          115           78.9      entry_lvl         <1             unknown  \n",
       "4          162           76.7     expert_lvl        >20       small_company  \n",
       "...        ...            ...            ...        ...                 ...  \n",
       "21282      103           92.0     expert_lvl         16             unknown  \n",
       "21283      136           89.7     expert_lvl         18             unknown  \n",
       "21284      100           88.7        mid_lvl          3             unknown  \n",
       "21285      102           80.4        mid_lvl          7    mid_size_company  \n",
       "21286      102           80.4     expert_lvl         15  very_large_company  \n",
       "\n",
       "[21287 rows x 14 columns]"
      ]
     },
     "execution_count": 19,
     "metadata": {},
     "output_type": "execute_result"
    }
   ],
   "source": [
    "eda_df"
   ]
  },
  {
   "cell_type": "code",
   "execution_count": 20,
   "id": "9a5c1228",
   "metadata": {},
   "outputs": [],
   "source": [
    "model_df = eda_df.drop(columns = 'experience')\n",
    "model_df = model_df[model_df['target'].notna()]"
   ]
  },
  {
   "cell_type": "code",
   "execution_count": 21,
   "id": "5f7879e4",
   "metadata": {},
   "outputs": [],
   "source": [
    "model_df.to_csv('model_df.csv')"
   ]
  }
 ],
 "metadata": {
  "kernelspec": {
   "display_name": "Python 3",
   "language": "python",
   "name": "python3"
  },
  "language_info": {
   "codemirror_mode": {
    "name": "ipython",
    "version": 3
   },
   "file_extension": ".py",
   "mimetype": "text/x-python",
   "name": "python",
   "nbconvert_exporter": "python",
   "pygments_lexer": "ipython3",
   "version": "3.8.8"
  }
 },
 "nbformat": 4,
 "nbformat_minor": 5
}
